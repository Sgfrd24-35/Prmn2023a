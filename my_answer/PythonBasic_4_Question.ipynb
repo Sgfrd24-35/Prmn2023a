{
  "cells": [
    {
      "attachments": {},
      "cell_type": "markdown",
      "metadata": {
        "id": "TA5kKi-LY1xg"
      },
      "source": [
        "<a href=\"https://colab.research.google.com/github/kiryu-3/Prmn2023/blob/main/Python/Python_Basic/question/PythonBasic_4_Question.ipynb\" target=\"_parent\"><img src=\"https://colab.research.google.com/assets/colab-badge.svg\" alt=\"Open In Colab\"/></a>"
      ]
    },
    {
      "attachments": {},
      "cell_type": "markdown",
      "metadata": {
        "id": "r-kcfL2yEU8b"
      },
      "source": [
        "# 第4章 課題"
      ]
    },
    {
      "attachments": {},
      "cell_type": "markdown",
      "metadata": {
        "id": "UqgRlaNaaWsU"
      },
      "source": [
        "## 課題1"
      ]
    },
    {
      "attachments": {},
      "cell_type": "markdown",
      "metadata": {
        "id": "dMngS2Dtai7U"
      },
      "source": [
        "10から2800まで、10飛ばしの数を乱数で生成し、2220000に足してください。  \n",
        "\n",
        "この数を5つ生成し、一つのリストに格納した後、最終的に頭に\"b\"をつけて5つ出力してください。"
      ]
    },
    {
      "attachments": {},
      "cell_type": "markdown",
      "metadata": {
        "id": "Ys4Y3shObw3w"
      },
      "source": [
        "＜実行結果例＞\n",
        "``` py  \n",
        "['b2220400', 'b2221750', 'b2222480', 'b2221720', 'b2220380']\n",
        "```"
      ]
    },
    {
      "cell_type": "code",
      "execution_count": 4,
      "metadata": {
        "id": "UaBFEY3Hdbsg"
      },
      "outputs": [
        {
          "name": "stdout",
          "output_type": "stream",
          "text": [
            "['b2222510', 'b2221150', 'b2222260', 'b2222120', 'b2222010']\n"
          ]
        }
      ],
      "source": [
        "# 入力用\n",
        "import random\n",
        "number = []\n",
        "for i in range(5):\n",
        "    number.append('b222'+str(random.randrange(10,2800,10)))\n",
        "print(number)"
      ]
    },
    {
      "attachments": {},
      "cell_type": "markdown",
      "metadata": {
        "id": "yRsfay5_8FuJ"
      },
      "source": [
        "## 課題2"
      ]
    },
    {
      "attachments": {},
      "cell_type": "markdown",
      "metadata": {
        "id": "4WbYBFGr8Ht3"
      },
      "source": [
        "1桁の自然数を乱数を使って5つ格納した2つのリストを作ってください。  \n",
        "この時、一つのリスト内で5つの値が重複しないようにしてください\n",
        "\n",
        "その後、対応する要素を足し合わせた新しいリストを出力してください"
      ]
    },
    {
      "attachments": {},
      "cell_type": "markdown",
      "metadata": {
        "id": "A0ImPPha84Nb"
      },
      "source": [
        "＜実行結果例＞\n",
        "``` py  \n",
        "1つ目のリスト：[1, 2, 3, 4, 5]  \n",
        "2つ目のリスト：[1, 3, 5, 7, 9]  \n",
        "足し合わせたリスト：[2, 5, 8, 11, 14]\n",
        "```"
      ]
    },
    {
      "cell_type": "code",
      "execution_count": 8,
      "metadata": {
        "id": "TaJm8jn2MHmk"
      },
      "outputs": [
        {
          "name": "stdout",
          "output_type": "stream",
          "text": [
            "[2, 7, 3, 2, 5] [4, 9, 5, 3, 9]\n",
            "[6, 16, 8, 5, 14]\n"
          ]
        }
      ],
      "source": [
        "# 入力用\n",
        "import random\n",
        "first_list = [random.randint(1,9) for i in range(5)]\n",
        "second_list = [random.randint(1,9) for i in range(5)]\n",
        "print(first_list,second_list)\n",
        "sum_list = [first_list[i] + second_list[i] for i in range(5)]\n",
        "print(sum_list)"
      ]
    },
    {
      "attachments": {},
      "cell_type": "markdown",
      "metadata": {
        "id": "-qZw_n3X8xrW"
      },
      "source": [
        "## 課題3"
      ]
    },
    {
      "attachments": {},
      "cell_type": "markdown",
      "metadata": {
        "id": "vxwATeobQf_U"
      },
      "source": [
        "リストの中身を指定した数で分割してみます。\n",
        "\n",
        "以下のリストには都道府県47つが格納されています。"
      ]
    },
    {
      "cell_type": "code",
      "execution_count": null,
      "metadata": {
        "id": "8ZdyRWbERGAY"
      },
      "outputs": [],
      "source": [
        "todohuken_list = [\n",
        "    '北海道', '青森県', '岩手県', '宮城県', '秋田県', '山形県', '福島県', '茨城県', '栃木県', '群馬県', \n",
        "    '埼玉県', '千葉県', '東京都', '神奈川県', '新潟県', '富山県', '石川県', '福井県', '山梨県', '長野県', \n",
        "    '岐阜県', '静岡県', '愛知県', '三重県', '滋賀県', '京都府', '大阪府', '兵庫県', '奈良県', '和歌山県', \n",
        "    '鳥取県', '島根県', '岡山県', '広島県', '山口県', '徳島県', '香川県', '愛媛県', '高知県',  '福岡県', \n",
        "    '佐賀県', '長崎県', '熊本県', '大分県', '宮崎県', '鹿児島県', '沖縄県',\n",
        "]"
      ]
    },
    {
      "attachments": {},
      "cell_type": "markdown",
      "metadata": {
        "id": "tGPa1uU6Qs2c"
      },
      "source": [
        "  \n",
        "これをランダムに1つのリストのサイズを4として分割してください"
      ]
    },
    {
      "attachments": {},
      "cell_type": "markdown",
      "metadata": {
        "id": "PWLTwz0TXzm_"
      },
      "source": [
        "＜実行結果例＞  \n",
        "``` py \n",
        "[['宮崎県', '茨城県', '栃木県', '千葉県'], … , ['岩手県', '滋賀県', '宮城県']]\n",
        "```"
      ]
    },
    {
      "cell_type": "code",
      "execution_count": 13,
      "metadata": {
        "id": "rgPlOseCTC_h"
      },
      "outputs": [
        {
          "name": "stdout",
          "output_type": "stream",
          "text": [
            "['秋田県', '宮崎県', '佐賀県', '京都府', '福岡県', '熊本県', '長崎県', '高知県', '北海道', '千葉県', '鹿児島県', '和歌山県', '新潟県', '愛知県', '山梨県', '宮城県', '神奈川県', '青森県', '石川県', '大分県', '山形県', '岐阜県', '奈良県', '群馬県', '徳島県', '愛媛県', '岩手県', '大阪府', '沖縄県', '東京都', '広島県', '島根県', '香川県', '三重県', '福島県', '福井県', '岡山県', '滋賀県', '栃木県', '埼玉県', '鳥取県', '茨城県', '山口県', '長野県', '富山県', '兵庫県', '静岡県']\n",
            "[['秋田県', '宮崎県', '佐賀県', '京都府'], ['福岡県', '熊本県', '長崎県', '高知県'], ['北海道', '千葉県', '鹿児島県', '和歌山県'], ['新潟県', '愛知県', '山梨県', '宮城県'], ['神奈川県', '青森県', '石川県', '大分県'], ['山形県', '岐阜県', '奈良県', '群馬県'], ['徳島県', '愛媛県', '岩手県', '大阪府'], ['沖縄県', '東京都', '広島県', '島根県'], ['香川県', '三重県', '福島県', '福井県'], ['岡山県', '滋賀県', '栃木県', '埼玉県'], ['鳥取県', '茨城県', '山口県', '長野県'], ['富山県', '兵庫県', '静岡県']]\n"
          ]
        }
      ],
      "source": [
        "# 入力用\n",
        "import random\n",
        "\n",
        "\n",
        "todohuken_list = [\n",
        "    '北海道', '青森県', '岩手県', '宮城県', '秋田県', '山形県', '福島県', '茨城県', '栃木県', '群馬県', \n",
        "    '埼玉県', '千葉県', '東京都', '神奈川県', '新潟県', '富山県', '石川県', '福井県', '山梨県', '長野県', \n",
        "    '岐阜県', '静岡県', '愛知県', '三重県', '滋賀県', '京都府', '大阪府', '兵庫県', '奈良県', '和歌山県', \n",
        "    '鳥取県', '島根県', '岡山県', '広島県', '山口県', '徳島県', '香川県', '愛媛県', '高知県',  '福岡県', \n",
        "    '佐賀県', '長崎県', '熊本県', '大分県', '宮崎県', '鹿児島県', '沖縄県',\n",
        "]\n",
        "\n",
        "random.shuffle(todohuken_list)\n",
        "print(todohuken_list)\n",
        "\n",
        "todohuken_list2 = [todohuken_list[4*i:4*i+4] for i in range(12)]\n",
        "print(todohuken_list2)  "
      ]
    },
    {
      "attachments": {},
      "cell_type": "markdown",
      "metadata": {
        "id": "W573lh39MOlj"
      },
      "source": [
        "## 課題4"
      ]
    },
    {
      "attachments": {},
      "cell_type": "markdown",
      "metadata": {
        "id": "sSIMKY-aNcIx"
      },
      "source": [
        "ある大学の名前と年齢が、次のような形式で格納されたリスト `university_list` があります。"
      ]
    },
    {
      "cell_type": "code",
      "execution_count": 30,
      "metadata": {
        "id": "v-wGyWuKK3wl"
      },
      "outputs": [],
      "source": [
        "university_list = [\n",
        "    \"Chitose,25\",\n",
        "    \"Hokudai,105\",\n",
        "    \"Muroran,74\",\n",
        "    \"Hakodate,23\",\n",
        "]"
      ]
    },
    {
      "attachments": {},
      "cell_type": "markdown",
      "metadata": {
        "id": "XIxDf9QgO1iH"
      },
      "source": [
        "このリストを、年齢順にソートして、新たなリストとして出力してください"
      ]
    },
    {
      "attachments": {},
      "cell_type": "markdown",
      "metadata": {
        "id": "0Z2-_1dAQENU"
      },
      "source": [
        "＜実行結果＞  \n",
        "``` py\n",
        "['Chitose,25', 'Hokudai,105', 'Muroran,74', 'Hakodate,23']\n",
        "['Hakodate,23', 'Chitose,25', 'Muroran,74', 'Hokudai,105']\n",
        "```"
      ]
    },
    {
      "cell_type": "code",
      "execution_count": 23,
      "metadata": {
        "id": "ficNVfkgR5Kv"
      },
      "outputs": [
        {
          "name": "stdout",
          "output_type": "stream",
          "text": [
            "['Hakodate,23', 'Chitose,25', 'Muroran,74', 'Hokudai,105']\n"
          ]
        }
      ],
      "source": [
        "# 入力用\n",
        "university_list = [\n",
        "    \"Chitose,25\",\n",
        "    \"Hokudai,105\",\n",
        "    \"Muroran,74\",\n",
        "    \"Hakodate,23\",\n",
        "]\n",
        "\n",
        "record = []\n",
        "for i in range(4):\n",
        "    x = university_list[i]\n",
        "    for j in range(len(x)):\n",
        "        y = x[j]\n",
        "        if y == ',':\n",
        "            record.append(int(x[j+1:]))\n",
        "            break\n",
        "dic_university_list = dict(zip(record,university_list))\n",
        "record.sort()\n",
        "university_list = []\n",
        "for k in record:\n",
        "    university_list.append(dic_university_list[k])\n",
        "     \n",
        "print(university_list)\n"
      ]
    },
    {
      "attachments": {},
      "cell_type": "markdown",
      "metadata": {
        "id": "QijnXk7UWAVC"
      },
      "source": [
        "## 課題5"
      ]
    },
    {
      "attachments": {},
      "cell_type": "markdown",
      "metadata": {
        "id": "m7F47Q1mWCA6"
      },
      "source": [
        "**FizzBuzz（フィズ・バズ）問題**という問題について解いていきます。\n",
        "\n",
        "もともとは、英語圏で長距離ドライブ中や飲み会の時に行われる言葉遊びです。"
      ]
    },
    {
      "attachments": {},
      "cell_type": "markdown",
      "metadata": {
        "id": "fArw0VcNWgwZ"
      },
      "source": [
        "以下のような問題になります。\n",
        "\n",
        "1～Nまでの整数を順に出力しなさい。ただし、例外として以下のルールを守ること。\n",
        "\n",
        "* 3で割り切れる数字の場合は\"Fizz\"を出力\n",
        "* 5で割り切れる数字の場合は\"Buzz\"を出力\n",
        "* どちらでも割り切れる数字の場合は\"FizzBuzz\"を出力"
      ]
    },
    {
      "attachments": {},
      "cell_type": "markdown",
      "metadata": {
        "id": "SYqkpYstWm7Z"
      },
      "source": [
        "ここではN=100として、まずは一つのリストに\n",
        "\"Fizz\" か \"Buzz\" か \"FizzBuzz\" か \"others\" を格納してください。\n",
        "\n",
        "その後、それぞれの要素の数をカウントしてください。"
      ]
    },
    {
      "attachments": {},
      "cell_type": "markdown",
      "metadata": {
        "id": "OqLuJTcWYzFt"
      },
      "source": [
        "＜実行結果＞  \n",
        "``` py\n",
        "FizzBuzzの数：6 \n",
        "Fizzの数：27 \n",
        "Buzzの数：14\n",
        "othersの数：53  \n",
        "```"
      ]
    },
    {
      "cell_type": "code",
      "execution_count": 75,
      "metadata": {
        "id": "5kEDaVLmaEpb"
      },
      "outputs": [
        {
          "name": "stdout",
          "output_type": "stream",
          "text": [
            "Fizz  :  27\n",
            "Buzz  :  14\n",
            "FizzBuzz  :  6\n",
            "others  :  53\n"
          ]
        }
      ],
      "source": [
        "# 入力用\n",
        "import numpy as np\n",
        "\n",
        "N = 100\n",
        "fizzbuzz_list = [\"Fizz\",\"Buzz\",\"FizzBuzz\",\"others\"]\n",
        "num = {i for i in range(1,N+1)}\n",
        "div_3 = {j for j in range(3, N + 1, 3)}\n",
        "div_5 = {k for k in range(5, N + 1, 5)}\n",
        "\n",
        "others = num - div_3 - div_5\n",
        "mltpl_15 = div_3 & div_5\n",
        "mltpl_3 = div_3 - mltpl_15\n",
        "mltpl_5 = div_5 - mltpl_15\n",
        "\n",
        "count_num = [len(mltpl_3),\n",
        "             len(mltpl_5),\n",
        "             len(mltpl_15),\n",
        "             len(others)]\n",
        "\n",
        "for l in range(4):\n",
        "    print(fizzbuzz_list[l],\" : \",count_num[l])"
      ]
    }
  ],
  "metadata": {
    "colab": {
      "provenance": []
    },
    "kernelspec": {
      "display_name": "Python 3",
      "name": "python3"
    },
    "language_info": {
      "codemirror_mode": {
        "name": "ipython",
        "version": 3
      },
      "file_extension": ".py",
      "mimetype": "text/x-python",
      "name": "python",
      "nbconvert_exporter": "python",
      "pygments_lexer": "ipython3",
      "version": "3.11.2"
    }
  },
  "nbformat": 4,
  "nbformat_minor": 0
}
