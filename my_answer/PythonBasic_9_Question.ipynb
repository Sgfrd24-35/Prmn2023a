{
  "cells": [
    {
      "attachments": {},
      "cell_type": "markdown",
      "metadata": {
        "id": "i_oQ7a1-uMsS"
      },
      "source": [
        "<a href=\"https://colab.research.google.com/github/kiryu-3/Prmn2023/blob/main/Python/Python_Basic/question/PythonBasic_9_Question.ipynb\" target=\"_parent\"><img src=\"https://colab.research.google.com/assets/colab-badge.svg\" alt=\"Open In Colab\"/></a>"
      ]
    },
    {
      "attachments": {},
      "cell_type": "markdown",
      "metadata": {
        "id": "jQqGrJNkuFDD"
      },
      "source": [
        "# オブジェクト指向2 課題"
      ]
    },
    {
      "attachments": {},
      "cell_type": "markdown",
      "metadata": {
        "id": "1DGEULJlZLkL"
      },
      "source": [
        "## 課題1"
      ]
    },
    {
      "attachments": {},
      "cell_type": "markdown",
      "metadata": {
        "id": "he1ry54qZP56"
      },
      "source": [
        "以下の要件を満たすクラスを作成してください"
      ]
    },
    {
      "attachments": {},
      "cell_type": "markdown",
      "metadata": {
        "id": "PkJ0b9znZUMi"
      },
      "source": [
        "**指示**\n",
        "\n",
        "・ moveメソッド内で「歩いたよ」と出力するInsectクラスを作る  \n",
        "\n",
        "・ moveメソッド内で「飛んだよ」と出力するButterflyクラスを作る   \n",
        "　 このとき、ButterflyクラスはInsectクラスを継承する  \n",
        "\n",
        "・ moveメソッド内で「跳んだよ」と出力するLocustクラスを作る   \n",
        "　 このとき、LocustクラスはInsectクラスを継承する  \n",
        "\n",
        "・ moveメソッド内で「綺麗に飛んだよ」と出力するSwallowtailButterflyクラスを作る   \n",
        "　 このとき、SwallowtailButterflyクラスはButterflyクラスを継承する \n",
        "\n",
        "\n",
        "\n"
      ]
    },
    {
      "attachments": {},
      "cell_type": "markdown",
      "metadata": {
        "id": "sgs0j4slcDD9"
      },
      "source": [
        "4つのクラスのインスタンスをリストinsect_listに格納してください。  \n",
        "その後、格納した4つのインスタンスからmoveメソッドを呼び出してください。"
      ]
    },
    {
      "cell_type": "code",
      "execution_count": null,
      "metadata": {
        "id": "p1fSdDIhrYbf"
      },
      "outputs": [],
      "source": [
        "# 入力用\n",
        "# 入力用\n",
        "class Insert:\n",
        "    def move(self):\n",
        "        val = \"歩いたよ\"\n",
        "        print(self, val)\n",
        "\n",
        "class Butterfly:\n",
        "    def move(self):\n",
        "        val = \"飛んだよ\"\n",
        "        print(self, val)\n",
        "\n",
        "class Locust:\n",
        "    def move(self):\n",
        "        val = \"跳んだよ\"\n",
        "        print(self, val)\n",
        "\n",
        "class SwallowtailButterfly:\n",
        "    def move(self):\n",
        "        val = \"綺麗に跳んだよ\"\n",
        "        print(self, val)\n",
        "        \n",
        "insect_list = [Insert(), Butterfly(), Locust(), SwallowtailButterfly()]\n",
        "\n",
        "for i in insect_list:\n",
        "    test = i\n",
        "    test.move()"
      ]
    },
    {
      "attachments": {},
      "cell_type": "markdown",
      "metadata": {
        "id": "sxV6gRm8djFh"
      },
      "source": [
        "## 課題2\n",
        "\n"
      ]
    },
    {
      "attachments": {},
      "cell_type": "markdown",
      "metadata": {
        "id": "AXc3PV3ddkyJ"
      },
      "source": [
        "以下の要件を満たすクラスを作成してください"
      ]
    },
    {
      "attachments": {},
      "cell_type": "markdown",
      "metadata": {
        "id": "kvvx9u5Kdh8i"
      },
      "source": [
        "\n",
        "**指示**\n",
        "\n",
        " ・ クラス名は Car、属性として変数fuelを持つ \n",
        "\n",
        " ・ 引数なしコンストラクタでfuelを0で初期化する  \n",
        "\n",
        " ・ メソッドとして戻り値、引数無しのrun() を持つ  \n",
        " ・ run()メソッドではfuelを1消費して、走ったことが分かる文言を表示させる  \n",
        "     \t  　（例:  \"燃料を1消費して走りました。\"）    \n",
        "\n",
        " ・ fuelが0以下の時走れなかったことが分かる文言を表示させる  \n",
        "        \n",
        "\n",
        "\n"
      ]
    },
    {
      "attachments": {},
      "cell_type": "markdown",
      "metadata": {
        "id": "SjRCbbdVd2cE"
      },
      "source": [
        "Carに給油をするGasStationクラスを作成してください    \n",
        "\n",
        "・ クラス名はGasStation、コンストラクタ無し\n",
        "\n",
        "・ refuel()メソッドを持つ  \n",
        "\n",
        "・ refuel()ではCarのfuelを20増やす  \n",
        "\n",
        "・ refuel()では給油したことが分かる文言を表示する"
      ]
    },
    {
      "attachments": {},
      "cell_type": "markdown",
      "metadata": {
        "id": "EN_PqJln9lFu"
      },
      "source": [
        "今回はCarクラスを継承したBusクラスを作っていきましょう。"
      ]
    },
    {
      "attachments": {},
      "cell_type": "markdown",
      "metadata": {
        "id": "H7G5D42r9vE1"
      },
      "source": [
        "**指示**\n",
        "\n",
        "・ クラス名は Bus、Carクラスを継承する \n",
        "\n",
        "・ Carクラスの属性に加えて、乗車定員を表す属性max_passenger（コンストラクタで定義）と、  \n",
        " 　 現在の乗員数を表す属性passenger（最初は0人）を定義する\n",
        "\n",
        "・ load()メソッドで、指定した人数をバスに乗せたり降ろしたりできるようにする    \n",
        "  （乗員数がマイナスにならないように注意する） \n",
        "\n",
        "・ 正の値を指定した場合はバスに乗せ、負の値を指定した場合はバスから降ろす  \n",
        "\n",
        "・ 乗車定員をオーバーしたらその旨を出力する。だが、客をさらに乗せることは可能にする\n",
        "        "
      ]
    },
    {
      "attachments": {},
      "cell_type": "markdown",
      "metadata": {
        "id": "nusSAbPjKb4h"
      },
      "source": [
        "＜メイン部分のコード（固定）＞"
      ]
    },
    {
      "cell_type": "code",
      "execution_count": null,
      "metadata": {
        "id": "qrDPJfQjKevB"
      },
      "outputs": [],
      "source": [
        "bus = Bus(50)\n",
        "gasstation = GasStation()\n",
        "\n",
        "bus.run()\n",
        "gasstation.refuel(bus)\n",
        "bus.run()\n",
        "\n",
        "bus.load(20)\n",
        "bus.load(-30)\n",
        "bus.load(60)\n",
        "bus.run()"
      ]
    },
    {
      "attachments": {},
      "cell_type": "markdown",
      "metadata": {
        "id": "p0JrYtsAIvzU"
      },
      "source": [
        "＜実行結果例＞  \n",
        "```\n",
        "燃料が足りないため走れませんでした。\n",
        "給油したことにより、fuelが20増えました。\n",
        "燃料を1消費して走りました。\n",
        "20人の客を乗せました\n",
        "現在の乗客数は20人です\n",
        "20人すべての乗客を降ろしました\n",
        "現在の乗客数は0人です\n",
        "60人の客を乗せました\n",
        "現在の乗客数は60人です\n",
        "乗車定員は50人です。定員オーバーです\n",
        "燃料を1消費して走りました。\n",
        "```"
      ]
    },
    {
      "cell_type": "code",
      "execution_count": 8,
      "metadata": {
        "id": "PonrNBwVO69b"
      },
      "outputs": [
        {
          "name": "stdout",
          "output_type": "stream",
          "text": [
            "燃料が足りないため走れませんでした。\n",
            "給油したことにより燃料が20増えました。\n",
            "燃料を1個消費して走りました。\n",
            "20 人乗せました\n",
            "現在の乗客は 20 人です\n",
            "30 人降ろしました\n",
            "20 人すべての乗客を降ろしました\n",
            "現在の乗客は 0 人です\n",
            "60 人乗せました\n",
            "現在の乗客は 60 人です\n",
            "乗車定員は 50 人です。定員オーバーです\n",
            "燃料を1個消費して走りました。\n"
          ]
        }
      ],
      "source": [
        "# 入力用\n",
        "# 入力用\n",
        "class Car:\n",
        "    \n",
        "    def __init__(self):\n",
        "        self.fuel = 0\n",
        "    \n",
        "    def run(self):\n",
        "        if self.fuel > 1:\n",
        "            self.fuel = self.fuel - 1\n",
        "            print(\"燃料を1個消費して走りました。\")\n",
        "        else:\n",
        "            print(\"燃料が足りないため走れませんでした。\")\n",
        "\n",
        "class GasStation:\n",
        "    \n",
        "    def refuel(self, car):\n",
        "        self.fuel = 20\n",
        "        car.fuel += self.fuel\n",
        "        print(\"給油したことにより燃料が20増えました。\")\n",
        "\n",
        "class Bus(Car):\n",
        "    def __init__(self, maximum):\n",
        "        super().__init__()\n",
        "        self.max_passenger = maximum\n",
        "        self.passenger = 0\n",
        "        \n",
        "    def load(self, num):\n",
        "        x = self.passenger + num\n",
        "        if num > 0:\n",
        "            print(num, '人乗せました')\n",
        "            self.passenger = x\n",
        "            print('現在の乗客は', self.passenger, '人です')\n",
        "            if x > 50:\n",
        "                print('乗車定員は', self.max_passenger, '人です。定員オーバーです')\n",
        "        else:\n",
        "            print(-num, '人降ろしました')\n",
        "            if x <= 0:\n",
        "                print(self.passenger, '人すべての乗客を降ろしました')\n",
        "                self.passenger = 0\n",
        "                print('現在の乗客は', self.passenger, '人です')\n",
        "            \n",
        "bus = Bus(50)\n",
        "gasstation = GasStation()\n",
        "\n",
        "bus.run()\n",
        "gasstation.refuel(bus)\n",
        "bus.run()\n",
        "\n",
        "bus.load(20)\n",
        "bus.load(-30)\n",
        "bus.load(60)\n",
        "bus.run()"
      ]
    },
    {
      "attachments": {},
      "cell_type": "markdown",
      "metadata": {
        "id": "8kY7RnsKL9wd"
      },
      "source": [
        "## 課題3"
      ]
    },
    {
      "attachments": {},
      "cell_type": "markdown",
      "metadata": {
        "id": "ad8pyx_wL_zs"
      },
      "source": [
        "以下の要件を満たすクラスを作成してください"
      ]
    },
    {
      "attachments": {},
      "cell_type": "markdown",
      "metadata": {
        "id": "3aCcTxAaMFds"
      },
      "source": [
        "**指示**\n",
        "\n",
        " Car クラスのrun()メソッドをBusクラス内でオーバーライドしてください  \n",
        "\n",
        "・ 乗客数が乗車定員を超えていたらバスが動けない旨を出力する  \n",
        "\n",
        "・ 何人降りれば動けるようになるか（乗車定員まで乗客を減らせるか）も同時に出力する\n"
      ]
    },
    {
      "attachments": {},
      "cell_type": "markdown",
      "metadata": {
        "id": "8wmrvEJjLOwa"
      },
      "source": [
        "＜メイン部分のコード（固定）＞"
      ]
    },
    {
      "cell_type": "code",
      "execution_count": null,
      "metadata": {
        "id": "SHOfbPrwLL7v"
      },
      "outputs": [],
      "source": [
        "bus = Bus(50)\n",
        "gasstation = GasStation()\n",
        "\n",
        "bus.run()\n",
        "gasstation.refuel(bus)\n",
        "bus.run()\n",
        "\n",
        "bus.load(20)\n",
        "bus.load(-30)\n",
        "bus.load(60)\n",
        "bus.run()\n",
        "bus.load(-30)\n",
        "bus.run()"
      ]
    },
    {
      "attachments": {},
      "cell_type": "markdown",
      "metadata": {
        "id": "wY1QAZeKMrwx"
      },
      "source": [
        "＜実行結果例＞\n",
        "\n",
        "```\n",
        "燃料が足りないため走れませんでした。\n",
        "給油したことにより、fuelが20増えました。\n",
        "燃料を1消費して走りました。\n",
        "20人の客を乗せました\n",
        "現在の乗客数は20人です\n",
        "20人すべての乗客を降ろしました\n",
        "現在の乗客数は0人です\n",
        "60人の客を乗せました\n",
        "現在の乗客数は60人です\n",
        "乗車定員は50人です。定員オーバーです\n",
        "乗車定員なので走れません\n",
        "最低でも10人降りる必要があります\n",
        "30人の乗客を降ろしました\n",
        "現在の乗客数は30人です\n",
        "燃料を1消費して走りました。\n",
        "```"
      ]
    },
    {
      "cell_type": "code",
      "execution_count": 16,
      "metadata": {
        "id": "w0h5DhqvO8VH"
      },
      "outputs": [
        {
          "name": "stdout",
          "output_type": "stream",
          "text": [
            "燃料が足りないため走れませんでした。\n",
            "給油したことにより燃料が20増えました。\n",
            "燃料を1個消費して走りました。\n",
            "20 人乗せました\n",
            "現在の乗客は 20 人です\n",
            "30 人降ろしました\n",
            "20 人すべての乗客を降ろしました\n",
            "現在の乗客は 0 人です\n",
            "60 人乗せました\n",
            "現在の乗客は 60 人です\n",
            "乗車定員は 50 人です。定員オーバーです\n",
            "乗車定員なので走れません\n",
            "最低でも10人降りる必要があります\n",
            "30 人降ろしました\n",
            "燃料を1個消費して走りました。\n"
          ]
        }
      ],
      "source": [
        "# 入力用\n",
        "class Car:\n",
        "    \n",
        "    def __init__(self):\n",
        "        self.fuel = 0\n",
        "    \n",
        "    def run(self):\n",
        "        if self.fuel > 1:\n",
        "            self.fuel = self.fuel - 1\n",
        "            print(\"燃料を1個消費して走りました。\")\n",
        "        else:\n",
        "            print(\"燃料が足りないため走れませんでした。\")\n",
        "\n",
        "class GasStation:\n",
        "    \n",
        "    def refuel(self, car):\n",
        "        self.fuel = 20\n",
        "        car.fuel += self.fuel\n",
        "        print(\"給油したことにより燃料が20増えました。\")\n",
        "\n",
        "class Bus(Car):\n",
        "    def __init__(self, maximum):\n",
        "        super().__init__()\n",
        "        self.max_passenger = maximum\n",
        "        self.passenger = 0\n",
        "        \n",
        "    def load(self, num):\n",
        "        self.passenger = self.passenger + num\n",
        "        if num > 0:\n",
        "            print(num, '人乗せました')\n",
        "            print('現在の乗客は', self.passenger, '人です')\n",
        "            if self.passenger > 50:\n",
        "                print('乗車定員は', self.max_passenger, '人です。定員オーバーです')\n",
        "        else:\n",
        "            print(-num, '人降ろしました')\n",
        "            if self.passenger <= 0:\n",
        "                print(self.passenger - num, '人すべての乗客を降ろしました')\n",
        "                self.passenger = 0\n",
        "                print('現在の乗客は', self.passenger, '人です')\n",
        "                \n",
        "    def run(self):\n",
        "        if self.fuel > 1:\n",
        "            if self.passenger > self.max_passenger:\n",
        "                print('乗車定員なので走れません')\n",
        "                print(f'最低でも{self.passenger - self.max_passenger}人降りる必要があります')\n",
        "            else:\n",
        "                self.fuel = self.fuel - 1\n",
        "                print(\"燃料を1個消費して走りました。\")\n",
        "        else:\n",
        "            print(\"燃料が足りないため走れませんでした。\")\n",
        "                \n",
        "bus = Bus(50)\n",
        "gasstation = GasStation()\n",
        "\n",
        "bus.run()\n",
        "gasstation.refuel(bus)\n",
        "bus.run()\n",
        "\n",
        "bus.load(20)\n",
        "bus.load(-30)\n",
        "bus.load(60)\n",
        "bus.run()\n",
        "bus.load(-30)\n",
        "bus.run()"
      ]
    }
  ],
  "metadata": {
    "colab": {
      "provenance": []
    },
    "kernelspec": {
      "display_name": "Python 3",
      "name": "python3"
    },
    "language_info": {
      "codemirror_mode": {
        "name": "ipython",
        "version": 3
      },
      "file_extension": ".py",
      "mimetype": "text/x-python",
      "name": "python",
      "nbconvert_exporter": "python",
      "pygments_lexer": "ipython3",
      "version": "3.11.2"
    }
  },
  "nbformat": 4,
  "nbformat_minor": 0
}
